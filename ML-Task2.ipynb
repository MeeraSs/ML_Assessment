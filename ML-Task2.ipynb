{
 "cells": [
  {
   "cell_type": "code",
   "execution_count": null,
   "id": "05566903-39e9-46ec-9fed-647c6a284529",
   "metadata": {},
   "outputs": [],
   "source": [
    "Q1.Suppose a child psychologist claims that the average time working mothers spend talking to their children is at least 11 minutes per day. You conduct a random sample of 1000 working mothers and find they spend an average of 11.5 minutes per day talking with their children. Assume prior research suggests the population standard deviation is 2.3 minutes.Conduct a test with a level of significance of alpha = 0.05."
   ]
  },
  {
   "cell_type": "code",
   "execution_count": 1,
   "id": "ae8f6839-a2c0-42f4-909e-6827872463b6",
   "metadata": {},
   "outputs": [],
   "source": [
    "import scipy.stats as stats"
   ]
  },
  {
   "cell_type": "code",
   "execution_count": 3,
   "id": "4bf64ff1-f9f7-4803-805e-f29193104875",
   "metadata": {},
   "outputs": [],
   "source": [
    "# given data\n",
    "population_mean=11  # population mean under null hypothesis\n",
    "sample_size=1000    \n",
    "sample_mean=11.5\n",
    "population_std=2.3  # standard deviation of population\n",
    "alpha=0.05          # significance level"
   ]
  },
  {
   "cell_type": "code",
   "execution_count": 5,
   "id": "219e6b0a-a401-4e46-b0b6-bb88a4e84fe4",
   "metadata": {},
   "outputs": [],
   "source": [
    "# calculate z test statistics\n",
    "z_score=(sample_mean-population_mean)/(population_std/(sample_size**0.5))"
   ]
  },
  {
   "cell_type": "code",
   "execution_count": 7,
   "id": "d91d526b-f651-424e-a708-4c8dad25a713",
   "metadata": {},
   "outputs": [],
   "source": [
    "# calculate the critical value\n",
    "critical_value=stats.norm.ppf(1-alpha)"
   ]
  },
  {
   "cell_type": "code",
   "execution_count": 9,
   "id": "a64a770c-18d2-402a-94e8-f1f60c82f21a",
   "metadata": {},
   "outputs": [
    {
     "name": "stdout",
     "output_type": "stream",
     "text": [
      "Z_score :  6.874516652539955\n"
     ]
    }
   ],
   "source": [
    "# print the z score and critical value\n",
    "print(\"Z_score : \",z_score)"
   ]
  },
  {
   "cell_type": "code",
   "execution_count": 11,
   "id": "d0597836-7242-413d-8f92-05c0a68b7b3f",
   "metadata": {},
   "outputs": [
    {
     "name": "stdout",
     "output_type": "stream",
     "text": [
      "Critical_value : 1.6448536269514722\n"
     ]
    }
   ],
   "source": [
    "print(\"Critical_value :\",critical_value)"
   ]
  },
  {
   "cell_type": "code",
   "execution_count": 21,
   "id": "f49ab91b-009f-4fd5-abe5-36e71528344b",
   "metadata": {},
   "outputs": [
    {
     "name": "stdout",
     "output_type": "stream",
     "text": [
      "Fail to reject null hypothesis\n"
     ]
    }
   ],
   "source": [
    "# compare the z score with the critical value and make a decision\n",
    "if z_score>critical_value:\n",
    "    print(\"Reject null hypothesis\")\n",
    "else:\n",
    "    print(\"Fail to reject null hypothesis\")"
   ]
  },
  {
   "cell_type": "code",
   "execution_count": null,
   "id": "09aeb15a-41b8-413d-bab5-2030813cf27b",
   "metadata": {},
   "outputs": [],
   "source": [
    "Q2. A coffee shop claims that their average wait time for customers is less than 5 minutes. To test this claim, a sample of 40 customers is taken, and their wait times are recorded. The sample mean wait time is found to be 4.6 minutes with a standard deviation of 0.8 minutes. Perform a hypothesis test at a significance level of 0.05 and determine whether there is enough evidence to support the coffee shop's claim."
   ]
  },
  {
   "cell_type": "code",
   "execution_count": 15,
   "id": "7942e8df-8842-472b-9639-22ac934c9cd5",
   "metadata": {},
   "outputs": [],
   "source": [
    "import scipy.stats as stats"
   ]
  },
  {
   "cell_type": "code",
   "execution_count": 17,
   "id": "58a8ad7e-a811-4cd9-8d1e-36cc0eda435e",
   "metadata": {},
   "outputs": [],
   "source": [
    "# given data\n",
    "population_mean=5   # population mean under null hypothesis\n",
    "sample_size=40\n",
    "sample_mean=4.6\n",
    "population_std=0.8  # standard deviation of population\n",
    "alpha=0.05           # significance level"
   ]
  },
  {
   "cell_type": "code",
   "execution_count": 19,
   "id": "0f0b54a9-92bf-4d7d-923f-68739da75340",
   "metadata": {},
   "outputs": [],
   "source": [
    "# calculate the z test statistics\n",
    "z_score=(sample_mean-population_mean)/(population_std/(sample_size**0.05))"
   ]
  },
  {
   "cell_type": "code",
   "execution_count": 23,
   "id": "ba4c31e7-dc27-475b-8c52-0ade12a26298",
   "metadata": {},
   "outputs": [],
   "source": [
    "# calculate the critical value\n",
    "critical_value=stats.norm.ppf(1-alpha)"
   ]
  },
  {
   "cell_type": "code",
   "execution_count": 25,
   "id": "8d4b92c5-5572-44cf-adbb-f45dca30c54e",
   "metadata": {},
   "outputs": [
    {
     "name": "stdout",
     "output_type": "stream",
     "text": [
      "Z_score :  -0.601274801898418\n"
     ]
    }
   ],
   "source": [
    "# print the z_score and critical value\n",
    "print(\"Z_score : \",z_score)"
   ]
  },
  {
   "cell_type": "code",
   "execution_count": 27,
   "id": "b2cf4ee9-4160-4a8a-869f-076c1180191c",
   "metadata": {},
   "outputs": [
    {
     "name": "stdout",
     "output_type": "stream",
     "text": [
      "Critical_value :  1.6448536269514722\n"
     ]
    }
   ],
   "source": [
    "print(\"Critical_value : \",critical_value)"
   ]
  },
  {
   "cell_type": "code",
   "execution_count": 29,
   "id": "9d501712-dec9-4642-b610-78a0501b6b70",
   "metadata": {},
   "outputs": [
    {
     "name": "stdout",
     "output_type": "stream",
     "text": [
      "Reject null hypothesis\n"
     ]
    }
   ],
   "source": [
    "# compare z score with critical value and make a decision\n",
    "if z_score<critical_value:\n",
    "    print(\"Reject null hypothesis\")\n",
    "else:\n",
    "    print(\"Fail to reject null hypothesis\")"
   ]
  },
  {
   "cell_type": "code",
   "execution_count": null,
   "id": "1f83094d-5804-40f2-a806-9c0032a8169c",
   "metadata": {},
   "outputs": [],
   "source": []
  }
 ],
 "metadata": {
  "kernelspec": {
   "display_name": "anaconda-2024.02-py310",
   "language": "python",
   "name": "conda-env-anaconda-2024.02-py310-py"
  },
  "language_info": {
   "codemirror_mode": {
    "name": "ipython",
    "version": 3
   },
   "file_extension": ".py",
   "mimetype": "text/x-python",
   "name": "python",
   "nbconvert_exporter": "python",
   "pygments_lexer": "ipython3",
   "version": "3.10.14"
  }
 },
 "nbformat": 4,
 "nbformat_minor": 5
}
